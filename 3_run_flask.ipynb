{
 "cells": [
  {
   "cell_type": "markdown",
   "metadata": {},
   "source": [
    "## Run Flask App\n",
    "\n",
    "\n",
    "Now that we've put our prediction code into the `prediction.py` and our requirements into the `requirements.txt` we can go ahead and test out our app. Our API will be served directly from our container using Flask, a popular Python Web Server. The Flask application, which will call our prediction function, is defined in the wsgi.py file.\n",
    "\n",
    "\n",
    "As always, we'll first run some imports to make sure all our requirements are there:"
   ]
  },
  {
   "cell_type": "code",
   "execution_count": 1,
   "metadata": {
    "tags": []
   },
   "outputs": [
    {
     "name": "stdout",
     "output_type": "stream",
     "text": [
      "Requirement already satisfied: Flask in /opt/app-root/lib/python3.8/site-packages (from -r requirements.txt (line 2)) (2.0.2)\n",
      "Requirement already satisfied: gunicorn in /opt/app-root/lib/python3.8/site-packages (from -r requirements.txt (line 3)) (20.1.0)\n",
      "Requirement already satisfied: tensorflow in /opt/app-root/lib/python3.8/site-packages (from -r requirements.txt (line 5)) (2.7.0)\n",
      "Requirement already satisfied: matplotlib in /opt/app-root/lib/python3.8/site-packages (from -r requirements.txt (line 6)) (3.4.1)\n",
      "Requirement already satisfied: six in /opt/app-root/lib/python3.8/site-packages (from -r requirements.txt (line 7)) (1.15.0)\n",
      "Requirement already satisfied: numpy in /opt/app-root/lib/python3.8/site-packages (from -r requirements.txt (line 8)) (1.19.2)\n",
      "Requirement already satisfied: itsdangerous>=2.0 in /opt/app-root/lib/python3.8/site-packages (from Flask->-r requirements.txt (line 2)) (2.0.1)\n",
      "Requirement already satisfied: click>=7.1.2 in /opt/app-root/lib/python3.8/site-packages (from Flask->-r requirements.txt (line 2)) (8.0.1)\n",
      "Requirement already satisfied: Werkzeug>=2.0 in /opt/app-root/lib/python3.8/site-packages (from Flask->-r requirements.txt (line 2)) (2.0.1)\n",
      "Requirement already satisfied: Jinja2>=3.0 in /opt/app-root/lib/python3.8/site-packages (from Flask->-r requirements.txt (line 2)) (3.0.3)\n",
      "Requirement already satisfied: setuptools>=3.0 in /opt/app-root/lib/python3.8/site-packages (from gunicorn->-r requirements.txt (line 3)) (59.5.0)\n",
      "Requirement already satisfied: flatbuffers<3.0,>=1.12 in /opt/app-root/lib/python3.8/site-packages (from tensorflow->-r requirements.txt (line 5)) (1.12)\n",
      "Requirement already satisfied: absl-py>=0.4.0 in /opt/app-root/lib/python3.8/site-packages (from tensorflow->-r requirements.txt (line 5)) (0.14.0)\n",
      "Requirement already satisfied: grpcio<2.0,>=1.24.3 in /opt/app-root/lib/python3.8/site-packages (from tensorflow->-r requirements.txt (line 5)) (1.32.0)\n",
      "Requirement already satisfied: wheel<1.0,>=0.32.0 in /opt/app-root/lib/python3.8/site-packages (from tensorflow->-r requirements.txt (line 5)) (0.37.0)\n",
      "Requirement already satisfied: tensorflow-estimator<2.8,~=2.7.0rc0 in /opt/app-root/lib/python3.8/site-packages (from tensorflow->-r requirements.txt (line 5)) (2.7.0)\n",
      "Requirement already satisfied: termcolor>=1.1.0 in /opt/app-root/lib/python3.8/site-packages (from tensorflow->-r requirements.txt (line 5)) (1.1.0)\n",
      "Requirement already satisfied: tensorflow-io-gcs-filesystem>=0.21.0 in /opt/app-root/lib/python3.8/site-packages (from tensorflow->-r requirements.txt (line 5)) (0.23.1)\n",
      "Requirement already satisfied: h5py>=2.9.0 in /opt/app-root/lib/python3.8/site-packages (from tensorflow->-r requirements.txt (line 5)) (2.10.0)\n",
      "Requirement already satisfied: libclang>=9.0.1 in /opt/app-root/lib/python3.8/site-packages (from tensorflow->-r requirements.txt (line 5)) (12.0.0)\n",
      "Requirement already satisfied: protobuf>=3.9.2 in /opt/app-root/lib/python3.8/site-packages (from tensorflow->-r requirements.txt (line 5)) (3.18.0)\n",
      "Requirement already satisfied: google-pasta>=0.1.1 in /opt/app-root/lib/python3.8/site-packages (from tensorflow->-r requirements.txt (line 5)) (0.2.0)\n",
      "Requirement already satisfied: wrapt>=1.11.0 in /opt/app-root/lib/python3.8/site-packages (from tensorflow->-r requirements.txt (line 5)) (1.12.1)\n",
      "Requirement already satisfied: keras-preprocessing>=1.1.1 in /opt/app-root/lib/python3.8/site-packages (from tensorflow->-r requirements.txt (line 5)) (1.1.2)\n",
      "Requirement already satisfied: keras<2.8,>=2.7.0rc0 in /opt/app-root/lib/python3.8/site-packages (from tensorflow->-r requirements.txt (line 5)) (2.7.0)\n",
      "Requirement already satisfied: typing-extensions>=3.6.6 in /opt/app-root/lib/python3.8/site-packages (from tensorflow->-r requirements.txt (line 5)) (3.7.4.3)\n",
      "Requirement already satisfied: opt-einsum>=2.3.2 in /opt/app-root/lib/python3.8/site-packages (from tensorflow->-r requirements.txt (line 5)) (3.3.0)\n",
      "Requirement already satisfied: astunparse>=1.6.0 in /opt/app-root/lib/python3.8/site-packages (from tensorflow->-r requirements.txt (line 5)) (1.6.3)\n",
      "Requirement already satisfied: gast<0.5.0,>=0.2.1 in /opt/app-root/lib/python3.8/site-packages (from tensorflow->-r requirements.txt (line 5)) (0.3.3)\n",
      "Requirement already satisfied: tensorboard~=2.6 in /opt/app-root/lib/python3.8/site-packages (from tensorflow->-r requirements.txt (line 5)) (2.7.0)\n",
      "Requirement already satisfied: cycler>=0.10 in /opt/app-root/lib/python3.8/site-packages (from matplotlib->-r requirements.txt (line 6)) (0.10.0)\n",
      "Requirement already satisfied: pyparsing>=2.2.1 in /opt/app-root/lib/python3.8/site-packages (from matplotlib->-r requirements.txt (line 6)) (2.4.7)\n",
      "Requirement already satisfied: kiwisolver>=1.0.1 in /opt/app-root/lib/python3.8/site-packages (from matplotlib->-r requirements.txt (line 6)) (1.3.2)\n",
      "Requirement already satisfied: python-dateutil>=2.7 in /opt/app-root/lib/python3.8/site-packages (from matplotlib->-r requirements.txt (line 6)) (2.8.2)\n",
      "Requirement already satisfied: pillow>=6.2.0 in /opt/app-root/lib/python3.8/site-packages (from matplotlib->-r requirements.txt (line 6)) (8.3.2)\n",
      "Requirement already satisfied: MarkupSafe>=2.0 in /opt/app-root/lib/python3.8/site-packages (from Jinja2>=3.0->Flask->-r requirements.txt (line 2)) (2.0.1)\n",
      "Requirement already satisfied: google-auth-oauthlib<0.5,>=0.4.1 in /opt/app-root/lib/python3.8/site-packages (from tensorboard~=2.6->tensorflow->-r requirements.txt (line 5)) (0.4.6)\n",
      "Requirement already satisfied: tensorboard-plugin-wit>=1.6.0 in /opt/app-root/lib/python3.8/site-packages (from tensorboard~=2.6->tensorflow->-r requirements.txt (line 5)) (1.8.0)\n",
      "Requirement already satisfied: google-auth<3,>=1.6.3 in /opt/app-root/lib/python3.8/site-packages (from tensorboard~=2.6->tensorflow->-r requirements.txt (line 5)) (1.35.0)\n",
      "Requirement already satisfied: markdown>=2.6.8 in /opt/app-root/lib/python3.8/site-packages (from tensorboard~=2.6->tensorflow->-r requirements.txt (line 5)) (3.3.4)\n",
      "Requirement already satisfied: requests<3,>=2.21.0 in /opt/app-root/lib/python3.8/site-packages (from tensorboard~=2.6->tensorflow->-r requirements.txt (line 5)) (2.26.0)\n",
      "Requirement already satisfied: tensorboard-data-server<0.7.0,>=0.6.0 in /opt/app-root/lib/python3.8/site-packages (from tensorboard~=2.6->tensorflow->-r requirements.txt (line 5)) (0.6.1)\n",
      "Requirement already satisfied: cachetools<5.0,>=2.0.0 in /opt/app-root/lib/python3.8/site-packages (from google-auth<3,>=1.6.3->tensorboard~=2.6->tensorflow->-r requirements.txt (line 5)) (4.2.2)\n",
      "Requirement already satisfied: pyasn1-modules>=0.2.1 in /opt/app-root/lib/python3.8/site-packages (from google-auth<3,>=1.6.3->tensorboard~=2.6->tensorflow->-r requirements.txt (line 5)) (0.2.8)\n",
      "Requirement already satisfied: rsa<5,>=3.1.4 in /opt/app-root/lib/python3.8/site-packages (from google-auth<3,>=1.6.3->tensorboard~=2.6->tensorflow->-r requirements.txt (line 5)) (4.7.2)\n",
      "Requirement already satisfied: requests-oauthlib>=0.7.0 in /opt/app-root/lib/python3.8/site-packages (from google-auth-oauthlib<0.5,>=0.4.1->tensorboard~=2.6->tensorflow->-r requirements.txt (line 5)) (1.3.0)\n",
      "Requirement already satisfied: certifi>=2017.4.17 in /opt/app-root/lib/python3.8/site-packages (from requests<3,>=2.21.0->tensorboard~=2.6->tensorflow->-r requirements.txt (line 5)) (2021.5.30)\n",
      "Requirement already satisfied: urllib3<1.27,>=1.21.1 in /opt/app-root/lib/python3.8/site-packages (from requests<3,>=2.21.0->tensorboard~=2.6->tensorflow->-r requirements.txt (line 5)) (1.26.7)\n",
      "Requirement already satisfied: idna<4,>=2.5 in /opt/app-root/lib/python3.8/site-packages (from requests<3,>=2.21.0->tensorboard~=2.6->tensorflow->-r requirements.txt (line 5)) (3.2)\n",
      "Requirement already satisfied: charset-normalizer~=2.0.0 in /opt/app-root/lib/python3.8/site-packages (from requests<3,>=2.21.0->tensorboard~=2.6->tensorflow->-r requirements.txt (line 5)) (2.0.6)\n",
      "Requirement already satisfied: pyasn1<0.5.0,>=0.4.6 in /opt/app-root/lib/python3.8/site-packages (from pyasn1-modules>=0.2.1->google-auth<3,>=1.6.3->tensorboard~=2.6->tensorflow->-r requirements.txt (line 5)) (0.4.8)\n",
      "Requirement already satisfied: oauthlib>=3.0.0 in /opt/app-root/lib/python3.8/site-packages (from requests-oauthlib>=0.7.0->google-auth-oauthlib<0.5,>=0.4.1->tensorboard~=2.6->tensorflow->-r requirements.txt (line 5)) (3.1.1)\n"
     ]
    }
   ],
   "source": [
    "import sys\n",
    "!pip install -r requirements.txt\n"
   ]
  },
  {
   "cell_type": "markdown",
   "metadata": {},
   "source": [
    "Now that we have everything in place, we can launch the Flask application.\n",
    "\n",
    "\n",
    "This cell will be in a **permanent running state**. That's normal as the webserver process will keep running. When you are finished with the test you can just select the cell, and click on the *Stop* button (next to Run).\n",
    "\n"
   ]
  },
  {
   "cell_type": "code",
   "execution_count": null,
   "metadata": {},
   "outputs": [
    {
     "name": "stdout",
     "output_type": "stream",
     "text": [
      " * Serving Flask app 'wsgi.py' (lazy loading)\n",
      " * Environment: development\n",
      " * Debug mode: on\n",
      "2021-12-24 00:12:27.523210: W tensorflow/stream_executor/platform/default/dso_loader.cc:64] Could not load dynamic library 'libcuda.so.1'; dlerror: libcuda.so.1: cannot open shared object file: No such file or directory; LD_LIBRARY_PATH: /usr/local/nvidia/lib:/usr/local/nvidia/lib64\n",
      "2021-12-24 00:12:27.523251: W tensorflow/stream_executor/cuda/cuda_driver.cc:269] failed call to cuInit: UNKNOWN ERROR (303)\n",
      "2021-12-24 00:12:27.523434: I tensorflow/stream_executor/cuda/cuda_diagnostics.cc:156] kernel driver does not appear to be running on this host (jupyterhub-nb-cfchase): /proc/driver/nvidia/version does not exist\n",
      "2021-12-24 00:12:27.523691: I tensorflow/core/platform/cpu_feature_guard.cc:151] This TensorFlow binary is optimized with oneAPI Deep Neural Network Library (oneDNN) to use the following CPU instructions in performance-critical operations:  AVX2 AVX512F FMA\n",
      "To enable them in other operations, rebuild TensorFlow with the appropriate compiler flags.\n",
      " * Running on http://127.0.0.1:5000/ (Press CTRL+C to quit)\n",
      " * Restarting with watchdog (inotify)\n",
      " * Debugger is active!\n",
      " * Debugger PIN: 106-278-921\n",
      "2021-12-24 00:12:50.514141: W tensorflow/stream_executor/platform/default/dso_loader.cc:64] Could not load dynamic library 'libcuda.so.1'; dlerror: libcuda.so.1: cannot open shared object file: No such file or directory; LD_LIBRARY_PATH: /usr/local/nvidia/lib:/usr/local/nvidia/lib64\n",
      "2021-12-24 00:12:50.514182: W tensorflow/stream_executor/cuda/cuda_driver.cc:269] failed call to cuInit: UNKNOWN ERROR (303)\n",
      "2021-12-24 00:12:50.514409: I tensorflow/stream_executor/cuda/cuda_diagnostics.cc:156] kernel driver does not appear to be running on this host (jupyterhub-nb-cfchase): /proc/driver/nvidia/version does not exist\n",
      "2021-12-24 00:12:50.514676: I tensorflow/core/platform/cpu_feature_guard.cc:151] This TensorFlow binary is optimized with oneAPI Deep Neural Network Library (oneDNN) to use the following CPU instructions in performance-critical operations:  AVX2 AVX512F FMA\n",
      "To enable them in other operations, rebuild TensorFlow with the appropriate compiler flags.\n",
      "127.0.0.1 - - [24/Dec/2021 00:13:24] \"GET /status HTTP/1.1\" 200 -\n",
      "127.0.0.1 - - [24/Dec/2021 00:13:25] \"POST /predictions HTTP/1.1\" 200 -\n",
      "127.0.0.1 - - [24/Dec/2021 00:13:25] \"POST /predictions HTTP/1.1\" 200 -\n",
      "127.0.0.1 - - [24/Dec/2021 00:13:52] \"POST /predictions HTTP/1.1\" 200 -\n",
      "127.0.0.1 - - [24/Dec/2021 00:14:02] \"POST /predictions HTTP/1.1\" 200 -\n"
     ]
    }
   ],
   "source": [
    "!FLASK_ENV=development FLASK_APP=wsgi.py flask run --host=0.0.0.0"
   ]
  },
  {
   "cell_type": "code",
   "execution_count": null,
   "metadata": {},
   "outputs": [],
   "source": []
  }
 ],
 "metadata": {
  "kernelspec": {
   "display_name": "Python 3 (ipykernel)",
   "language": "python",
   "name": "python3"
  },
  "language_info": {
   "codemirror_mode": {
    "name": "ipython",
    "version": 3
   },
   "file_extension": ".py",
   "mimetype": "text/x-python",
   "name": "python",
   "nbconvert_exporter": "python",
   "pygments_lexer": "ipython3",
   "version": "3.8.8"
  }
 },
 "nbformat": 4,
 "nbformat_minor": 4
}
